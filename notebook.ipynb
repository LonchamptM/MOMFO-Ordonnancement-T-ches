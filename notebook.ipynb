{
 "cells": [
  {
   "cell_type": "markdown",
   "metadata": {},
   "source": [
    "# Algorithme MOMFO pour l'Ordonnancement de Tâches dans un Environnement Fog-Cloud 💡\n",
    "\n",
    "## Imports"
   ]
  },
  {
   "cell_type": "code",
   "execution_count": 1,
   "metadata": {},
   "outputs": [],
   "source": [
    "from utils import print_assignment\n",
    "from heuristic import MOMFO_algorithm"
   ]
  },
  {
   "cell_type": "markdown",
   "metadata": {},
   "source": [
    "## Paramètres de l'expérience"
   ]
  },
  {
   "cell_type": "code",
   "execution_count": 2,
   "metadata": {},
   "outputs": [],
   "source": [
    "# Paramètres de test\n",
    "num_moths = 50        # Nombre de moths dans la population\n",
    "num_tasks = 10        # Nombre de tâches à attribuer\n",
    "num_vms = 5           # Nombre de machines virtuelles disponibles\n",
    "tasks_lengths = [5, 8, 3, 7, 2, 6, 4, 9, 1, 5]  # Liste des longueurs de tâches\n",
    "vm_processing_powers =  [10, 8, 12, 9, 11]   # Liste des puissances de traitement des machines virtuelles\n",
    "exe_times = [2, 3, 1, 4, 2, 3, 2, 5, 1, 3]      # Liste des temps d'exécution de chaque tâche\n",
    "vm_active_powers = [10, 13, 17, 14, 16]   # Liste des consommations actives de chaque machine virtuelle\n",
    "vm_idle_powers = [5, 4, 6, 5, 5]      # Liste des consommations au repos de chaque machine virtuelle\n",
    "max_iterations = 1000 # Nombre maximal d'itérations\n",
    "b = 0.1               # Constante pour la forme de la spirale logarithmique"
   ]
  },
  {
   "cell_type": "markdown",
   "metadata": {},
   "source": [
    "## Résultat"
   ]
  },
  {
   "cell_type": "code",
   "execution_count": 3,
   "metadata": {},
   "outputs": [
    {
     "data": {
      "text/plain": [
       "[4, 5, 1, 5, 5, 2, 4, 1, 5, 4]"
      ]
     },
     "execution_count": 3,
     "metadata": {},
     "output_type": "execute_result"
    }
   ],
   "source": [
    "best_config = MOMFO_algorithm(num_moths, num_tasks, num_vms, tasks_lengths, vm_processing_powers, exe_times, vm_active_powers, vm_idle_powers, max_iterations, b)\n",
    "\n",
    "best_config.position"
   ]
  },
  {
   "cell_type": "code",
   "execution_count": 4,
   "metadata": {},
   "outputs": [
    {
     "name": "stdout",
     "output_type": "stream",
     "text": [
      "VM1: Tâche 3, Tâche 8\n",
      "VM2: Tâche 6\n",
      "VM3: \n",
      "VM4: Tâche 1, Tâche 7, Tâche 10\n",
      "VM5: Tâche 2, Tâche 4, Tâche 5, Tâche 9\n"
     ]
    }
   ],
   "source": [
    "print_assignment(best_config.position, num_vms)"
   ]
  }
 ],
 "metadata": {
  "kernelspec": {
   "display_name": "Python 3",
   "language": "python",
   "name": "python3"
  },
  "language_info": {
   "codemirror_mode": {
    "name": "ipython",
    "version": 3
   },
   "file_extension": ".py",
   "mimetype": "text/x-python",
   "name": "python",
   "nbconvert_exporter": "python",
   "pygments_lexer": "ipython3",
   "version": "3.12.2"
  }
 },
 "nbformat": 4,
 "nbformat_minor": 2
}
