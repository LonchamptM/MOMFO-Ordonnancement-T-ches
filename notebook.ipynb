{
 "cells": [
  {
   "cell_type": "markdown",
   "metadata": {},
   "source": [
    "# Algorithme MOMFO pour l'Ordonnancement de Tâches dans un Environnement Fog-Cloud 💡\n",
    "\n",
    "## Imports"
   ]
  },
  {
   "cell_type": "code",
   "execution_count": 11,
   "metadata": {},
   "outputs": [
    {
     "ename": "ImportError",
     "evalue": "cannot import name 'print_assignment' from 'utils' (c:\\Users\\lonch\\Documents\\Projet\\Scolaire\\OMO\\utils.py)",
     "output_type": "error",
     "traceback": [
      "\u001b[1;31m---------------------------------------------------------------------------\u001b[0m",
      "\u001b[1;31mImportError\u001b[0m                               Traceback (most recent call last)",
      "Cell \u001b[1;32mIn[11], line 1\u001b[0m\n\u001b[1;32m----> 1\u001b[0m \u001b[38;5;28;01mfrom\u001b[39;00m \u001b[38;5;21;01mutils\u001b[39;00m \u001b[38;5;28;01mimport\u001b[39;00m print_assignment\n\u001b[0;32m      2\u001b[0m \u001b[38;5;28;01mfrom\u001b[39;00m \u001b[38;5;21;01mheuristic\u001b[39;00m \u001b[38;5;28;01mimport\u001b[39;00m MOMFO_algorithm\n",
      "\u001b[1;31mImportError\u001b[0m: cannot import name 'print_assignment' from 'utils' (c:\\Users\\lonch\\Documents\\Projet\\Scolaire\\OMO\\utils.py)"
     ]
    }
   ],
   "source": [
    "from utils import print_assignment\n",
    "from heuristic import MOMFO_algorithm"
   ]
  },
  {
   "cell_type": "markdown",
   "metadata": {},
   "source": [
    "## Paramètres de l'expérience"
   ]
  },
  {
   "cell_type": "code",
   "execution_count": 2,
   "metadata": {},
   "outputs": [],
   "source": [
    "# Paramètres de test\n",
    "num_moths = 50        # Nombre de moths dans la population\n",
    "num_tasks = 10        # Nombre de tâches à attribuer\n",
    "num_vms = 5           # Nombre de machines virtuelles disponibles\n",
    "tasks_lengths = [5, 8, 3, 7, 2, 6, 4, 9, 1, 5]  # Liste des longueurs de tâches\n",
    "vm_processing_powers =  [10, 8, 12, 9, 11]   # Liste des puissances de traitement des machines virtuelles\n",
    "exe_times = [2, 3, 1, 4, 2, 3, 2, 5, 1, 3]      # Liste des temps d'exécution de chaque tâche\n",
    "vm_active_powers = [10, 13, 17, 14, 16]   # Liste des consommations actives de chaque machine virtuelle\n",
    "vm_idle_powers = [5, 4, 6, 5, 5]      # Liste des consommations au repos de chaque machine virtuelle\n",
    "max_iterations = 1000 # Nombre maximal d'itérations\n",
    "b = 0.1               # Constante pour la forme de la spirale logarithmique"
   ]
  },
  {
   "cell_type": "markdown",
   "metadata": {},
   "source": [
    "## Résultat"
   ]
  },
  {
   "cell_type": "code",
   "execution_count": 5,
   "metadata": {},
   "outputs": [
    {
     "data": {
      "text/plain": [
       "[5, 5, 1, 2, 5, 4, 4, 1, 1, 2]"
      ]
     },
     "execution_count": 5,
     "metadata": {},
     "output_type": "execute_result"
    }
   ],
   "source": [
    "best_config = MOMFO_algorithm(num_moths, num_tasks, num_vms, tasks_lengths, vm_processing_powers, exe_times, vm_active_powers, vm_idle_powers, max_iterations, b)\n",
    "\n",
    "best_config.position"
   ]
  },
  {
   "cell_type": "code",
   "execution_count": 9,
   "metadata": {},
   "outputs": [
    {
     "name": "stdout",
     "output_type": "stream",
     "text": [
      "VM1: Tâche 3, Tâche 8, Tâche 9\n",
      "VM2: Tâche 4, Tâche 10\n",
      "VM3: \n",
      "VM4: Tâche 6, Tâche 7\n",
      "VM5: Tâche 1, Tâche 2, Tâche 5\n"
     ]
    }
   ],
   "source": [
    "def print_assignment(position, num_vms):\n",
    "    # Création d'un dictionnaire pour stocker les tâches associées à chaque machine virtuelle\n",
    "    assignment_dict = {f\"VM{i + 1}\": [] for i in range(num_vms)}\n",
    "\n",
    "    # Remplissage du dictionnaire avec les tâches associées à chaque machine virtuelle\n",
    "    for task, vm in enumerate(position, start=1):\n",
    "        assignment_dict[f\"VM{vm}\"].append(f\"Tâche {task}\")\n",
    "\n",
    "    # Affichage du résultat\n",
    "    for vm, tasks in assignment_dict.items():\n",
    "        print(f\"{vm}: {', '.join(tasks)}\")\n",
    "\n",
    "print_assignment(best_config.position, num_vms)"
   ]
  }
 ],
 "metadata": {
  "kernelspec": {
   "display_name": "Python 3",
   "language": "python",
   "name": "python3"
  },
  "language_info": {
   "codemirror_mode": {
    "name": "ipython",
    "version": 3
   },
   "file_extension": ".py",
   "mimetype": "text/x-python",
   "name": "python",
   "nbconvert_exporter": "python",
   "pygments_lexer": "ipython3",
   "version": "3.12.2"
  }
 },
 "nbformat": 4,
 "nbformat_minor": 2
}
